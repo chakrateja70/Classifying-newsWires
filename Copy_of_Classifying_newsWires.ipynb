{
  "nbformat": 4,
  "nbformat_minor": 0,
  "metadata": {
    "colab": {
      "provenance": [],
      "authorship_tag": "ABX9TyNlq1CyDZoHDjJuLKBa/AiC",
      "include_colab_link": true
    },
    "kernelspec": {
      "name": "python3",
      "display_name": "Python 3"
    },
    "language_info": {
      "name": "python"
    }
  },
  "cells": [
    {
      "cell_type": "markdown",
      "metadata": {
        "id": "view-in-github",
        "colab_type": "text"
      },
      "source": [
        "<a href=\"https://colab.research.google.com/github/chakrateja70/Classifying-newsWires/blob/main/Copy_of_Classifying_newsWires.ipynb\" target=\"_parent\"><img src=\"https://colab.research.google.com/assets/colab-badge.svg\" alt=\"Open In Colab\"/></a>"
      ]
    },
    {
      "cell_type": "code",
      "execution_count": 1,
      "metadata": {
        "colab": {
          "base_uri": "https://localhost:8080/"
        },
        "id": "ga-wwwC8GJNK",
        "outputId": "618dc511-b689-4594-d06e-63bcfd704d77"
      },
      "outputs": [
        {
          "output_type": "stream",
          "name": "stdout",
          "text": [
            "Downloading data from https://storage.googleapis.com/tensorflow/tf-keras-datasets/reuters.npz\n",
            "2110848/2110848 [==============================] - 0s 0us/step\n"
          ]
        }
      ],
      "source": [
        "#Loading the Reuters dataset\n",
        "\n",
        "from keras.datasets import reuters\n",
        "\n",
        "(train_data, train_labels), (test_data, test_labels) = reuters.load_data(num_words=10000)"
      ]
    },
    {
      "cell_type": "code",
      "source": [
        "#decoding newswires back to text\n",
        "\n",
        "word_index = reuters.get_word_index()\n",
        "reverse_word_index = dict([(value, key) for (key, value) in word_index.items()])\n",
        "decoded_newswire = ' '.join([reverse_word_index.get(i - 3, '?') for i in train_data[0]])"
      ],
      "metadata": {
        "colab": {
          "base_uri": "https://localhost:8080/"
        },
        "id": "p8nN42pRHvx8",
        "outputId": "59e2f0e8-d0c5-44b1-a2a0-e05fd99ed639"
      },
      "execution_count": 2,
      "outputs": [
        {
          "output_type": "stream",
          "name": "stdout",
          "text": [
            "Downloading data from https://storage.googleapis.com/tensorflow/tf-keras-datasets/reuters_word_index.json\n",
            "550378/550378 [==============================] - 0s 0us/step\n"
          ]
        }
      ]
    },
    {
      "cell_type": "code",
      "source": [
        "#Encoding the data\n",
        "import numpy as np\n",
        "\n",
        "def vectorize_sequences(sequences, dimension=10000):\n",
        "    results = np.zeros((len(sequences), dimension))\n",
        "    for i, sequence in enumerate(sequences):\n",
        "        results[i, sequence] = 1.\n",
        "    return results\n",
        "\n",
        "x_train = vectorize_sequences(train_data)\n",
        "x_test = vectorize_sequences(test_data)"
      ],
      "metadata": {
        "id": "tzWHlEcFH_wl"
      },
      "execution_count": 3,
      "outputs": []
    },
    {
      "cell_type": "code",
      "source": [
        "def to_one_hot(labels, dimension=46):\n",
        "    results = np.zeros((len(labels), dimension))\n",
        "    for i, label in enumerate(labels):\n",
        "        results[i, label] = 1.\n",
        "    return results\n",
        "\n",
        "one_hot_train_labels = to_one_hot(train_labels)\n",
        "one_hot_test_labels = to_one_hot(test_labels)"
      ],
      "metadata": {
        "id": "dO4J9Sh_IFji"
      },
      "execution_count": 18,
      "outputs": []
    },
    {
      "cell_type": "code",
      "source": [
        "from keras.utils import to_categorical\n",
        "\n",
        "\n",
        "one_hot_train_labels = to_categorical(train_labels)\n",
        "one_hot_test_labels = to_categorical(test_labels)"
      ],
      "metadata": {
        "id": "PyjITzV-IM6C"
      },
      "execution_count": 19,
      "outputs": []
    },
    {
      "cell_type": "code",
      "source": [
        "#Model definition\n",
        "from keras import models\n",
        "from keras import layers\n",
        "\n",
        "model = models.Sequential()\n",
        "model.add(layers.Dense(64, activation='relu', input_shape=(10000,)))\n",
        "model.add(layers.Dense(64, activation='relu'))\n",
        "model.add(layers.Dense(46, activation='softmax'))"
      ],
      "metadata": {
        "id": "rNY3TVu3JtDS"
      },
      "execution_count": 5,
      "outputs": []
    },
    {
      "cell_type": "code",
      "source": [
        "#Compiling the model\n",
        "model.compile(optimizer='rmsprop',\n",
        "              loss='categorical_crossentropy',\n",
        "              metrics=['accuracy'])"
      ],
      "metadata": {
        "id": "hVNdijDxJydy"
      },
      "execution_count": 20,
      "outputs": []
    },
    {
      "cell_type": "code",
      "source": [
        "#Setting aside a validation set\n",
        "x_val = x_train[:1000]\n",
        "partial_x_train = x_train[1000:]\n",
        "\n",
        "y_val = one_hot_train_labels[:1000]\n",
        "partial_y_train = one_hot_train_labels[1000:]"
      ],
      "metadata": {
        "id": "1qXkk7XDJ1dL"
      },
      "execution_count": 21,
      "outputs": []
    },
    {
      "cell_type": "code",
      "source": [
        "#Training the model\n",
        "history = model.fit(partial_x_train,\n",
        "                    partial_y_train,\n",
        "                    epochs=20,\n",
        "                    batch_size=512,\n",
        "                    validation_data=(x_val, y_val))"
      ],
      "metadata": {
        "colab": {
          "base_uri": "https://localhost:8080/"
        },
        "id": "RyQEwc5mJ3Y5",
        "outputId": "b14af57e-44f0-4a0c-c505-b123e97997eb"
      },
      "execution_count": 22,
      "outputs": [
        {
          "output_type": "stream",
          "name": "stdout",
          "text": [
            "Epoch 1/20\n",
            "16/16 [==============================] - 2s 81ms/step - loss: 2.5749 - accuracy: 0.5172 - val_loss: 1.7765 - val_accuracy: 0.6320\n",
            "Epoch 2/20\n",
            "16/16 [==============================] - 1s 54ms/step - loss: 1.5196 - accuracy: 0.6792 - val_loss: 1.3918 - val_accuracy: 0.6950\n",
            "Epoch 3/20\n",
            "16/16 [==============================] - 1s 53ms/step - loss: 1.1925 - accuracy: 0.7433 - val_loss: 1.2277 - val_accuracy: 0.7390\n",
            "Epoch 4/20\n",
            "16/16 [==============================] - 1s 62ms/step - loss: 0.9847 - accuracy: 0.7895 - val_loss: 1.1075 - val_accuracy: 0.7680\n",
            "Epoch 5/20\n",
            "16/16 [==============================] - 1s 94ms/step - loss: 0.8283 - accuracy: 0.8203 - val_loss: 1.0400 - val_accuracy: 0.7740\n",
            "Epoch 6/20\n",
            "16/16 [==============================] - 1s 87ms/step - loss: 0.6969 - accuracy: 0.8475 - val_loss: 0.9761 - val_accuracy: 0.8000\n",
            "Epoch 7/20\n",
            "16/16 [==============================] - 1s 53ms/step - loss: 0.5892 - accuracy: 0.8690 - val_loss: 0.9343 - val_accuracy: 0.8060\n",
            "Epoch 8/20\n",
            "16/16 [==============================] - 1s 56ms/step - loss: 0.4946 - accuracy: 0.8905 - val_loss: 0.9150 - val_accuracy: 0.8090\n",
            "Epoch 9/20\n",
            "16/16 [==============================] - 1s 54ms/step - loss: 0.4194 - accuracy: 0.9095 - val_loss: 0.8993 - val_accuracy: 0.8040\n",
            "Epoch 10/20\n",
            "16/16 [==============================] - 1s 54ms/step - loss: 0.3577 - accuracy: 0.9251 - val_loss: 0.9033 - val_accuracy: 0.8050\n",
            "Epoch 11/20\n",
            "16/16 [==============================] - 1s 57ms/step - loss: 0.3039 - accuracy: 0.9334 - val_loss: 0.8616 - val_accuracy: 0.8270\n",
            "Epoch 12/20\n",
            "16/16 [==============================] - 1s 54ms/step - loss: 0.2651 - accuracy: 0.9402 - val_loss: 0.8786 - val_accuracy: 0.8110\n",
            "Epoch 13/20\n",
            "16/16 [==============================] - 1s 52ms/step - loss: 0.2371 - accuracy: 0.9444 - val_loss: 0.9245 - val_accuracy: 0.8100\n",
            "Epoch 14/20\n",
            "16/16 [==============================] - 1s 51ms/step - loss: 0.2112 - accuracy: 0.9480 - val_loss: 0.9065 - val_accuracy: 0.8120\n",
            "Epoch 15/20\n",
            "16/16 [==============================] - 1s 54ms/step - loss: 0.1934 - accuracy: 0.9505 - val_loss: 0.9191 - val_accuracy: 0.8160\n",
            "Epoch 16/20\n",
            "16/16 [==============================] - 1s 54ms/step - loss: 0.1730 - accuracy: 0.9528 - val_loss: 0.9200 - val_accuracy: 0.8190\n",
            "Epoch 17/20\n",
            "16/16 [==============================] - 1s 56ms/step - loss: 0.1599 - accuracy: 0.9531 - val_loss: 0.9331 - val_accuracy: 0.8170\n",
            "Epoch 18/20\n",
            "16/16 [==============================] - 1s 76ms/step - loss: 0.1526 - accuracy: 0.9534 - val_loss: 0.9463 - val_accuracy: 0.8050\n",
            "Epoch 19/20\n",
            "16/16 [==============================] - 1s 91ms/step - loss: 0.1447 - accuracy: 0.9553 - val_loss: 0.9194 - val_accuracy: 0.8200\n",
            "Epoch 20/20\n",
            "16/16 [==============================] - 1s 67ms/step - loss: 0.1362 - accuracy: 0.9546 - val_loss: 0.9463 - val_accuracy: 0.8150\n"
          ]
        }
      ]
    },
    {
      "cell_type": "code",
      "source": [
        "#Plotting the training and validation loss\n",
        "import matplotlib.pyplot as plt\n",
        "loss = history.history['loss']\n",
        "val_loss = history.history['val_loss']\n",
        "\n",
        "epochs = range(1, len(loss) + 1)\n",
        "\n",
        "plt.plot(epochs, loss, 'bo', label='Training loss')\n",
        "plt.plot(epochs, val_loss, 'b', label='Validation loss')\n",
        "plt.title('Training and validation loss')\n",
        "plt.xlabel('Epochs')\n",
        "plt.ylabel('Loss')\n",
        "plt.legend()\n",
        "\n",
        "plt.show()"
      ],
      "metadata": {
        "colab": {
          "base_uri": "https://localhost:8080/",
          "height": 472
        },
        "id": "QdaYvgyHJ9rC",
        "outputId": "f24d9d3b-fee0-4559-865f-675dd48eee02"
      },
      "execution_count": 23,
      "outputs": [
        {
          "output_type": "display_data",
          "data": {
            "text/plain": [
              "<Figure size 640x480 with 1 Axes>"
            ],
            "image/png": "[encoded data removed]"
          },
          "metadata": {}
        }
      ]
    },
    {
      "cell_type": "code",
      "source": [
        "#plotting the training and validation accuracy\n",
        "import matplotlib.pyplot as plt\n",
        "acc = history.history['accuracy']\n",
        "val_acc = history.history['val_accuracy']\n",
        "plt.plot(epochs, acc, 'bo', label='Training acc')\n",
        "plt.plot(epochs, val_acc, 'b', label='Validation acc')\n",
        "plt.title('Training and validation accuracy')\n",
        "plt.xlabel('Epochs')\n",
        "plt.ylabel('Loss')\n",
        "plt.legend()\n",
        "plt.show()"
      ],
      "metadata": {
        "colab": {
          "base_uri": "https://localhost:8080/",
          "height": 472
        },
        "id": "6nm73ifdKExi",
        "outputId": "25f9ad1d-cedb-4c23-ce9f-b00f1ba6af5c"
      },
      "execution_count": 24,
      "outputs": [
        {
          "output_type": "display_data",
          "data": {
            "text/plain": [
              "<Figure size 640x480 with 1 Axes>"
            ],
            "image/png": "[encoded data removed]"
          },
          "metadata": {}
        }
      ]
    },
    {
      "cell_type": "code",
      "source": [
        "#Retaining a model from scratch\n",
        "model = models.Sequential()\n",
        "model.add(layers.Dense(64, activation='relu', input_shape=(10000,)))\n",
        "model.add(layers.Dense(64, activation='relu'))\n",
        "model.add(layers.Dense(46, activation='softmax'))\n",
        "\n",
        "model.compile(optimizer='rmsprop',\n",
        "              loss='categorical_crossentropy',\n",
        "              metrics=['accuracy'])\n",
        "model.fit(partial_x_train,\n",
        "          partial_y_train,\n",
        "          epochs=8,\n",
        "          batch_size=512,\n",
        "          validation_data=(x_val, y_val))\n",
        "results = model.evaluate(x_test, one_hot_test_labels)"
      ],
      "metadata": {
        "colab": {
          "base_uri": "https://localhost:8080/"
        },
        "id": "_reqgDA1aq_m",
        "outputId": "dfafcc35-80c8-419b-973d-405e2d3a5170"
      },
      "execution_count": 25,
      "outputs": [
        {
          "output_type": "stream",
          "name": "stdout",
          "text": [
            "Epoch 1/8\n",
            "16/16 [==============================] - 2s 78ms/step - loss: 2.7211 - accuracy: 0.5174 - val_loss: 1.8736 - val_accuracy: 0.5910\n",
            "Epoch 2/8\n",
            "16/16 [==============================] - 1s 55ms/step - loss: 1.5108 - accuracy: 0.6733 - val_loss: 1.3693 - val_accuracy: 0.7130\n",
            "Epoch 3/8\n",
            "16/16 [==============================] - 1s 53ms/step - loss: 1.1322 - accuracy: 0.7598 - val_loss: 1.1577 - val_accuracy: 0.7380\n",
            "Epoch 4/8\n",
            "16/16 [==============================] - 1s 55ms/step - loss: 0.9198 - accuracy: 0.8011 - val_loss: 1.0596 - val_accuracy: 0.7740\n",
            "Epoch 5/8\n",
            "16/16 [==============================] - 1s 55ms/step - loss: 0.7571 - accuracy: 0.8354 - val_loss: 0.9998 - val_accuracy: 0.7810\n",
            "Epoch 6/8\n",
            "16/16 [==============================] - 1s 55ms/step - loss: 0.6291 - accuracy: 0.8633 - val_loss: 0.9468 - val_accuracy: 0.7990\n",
            "Epoch 7/8\n",
            "16/16 [==============================] - 1s 53ms/step - loss: 0.5257 - accuracy: 0.8874 - val_loss: 0.9176 - val_accuracy: 0.7900\n",
            "Epoch 8/8\n",
            "16/16 [==============================] - 1s 51ms/step - loss: 0.4447 - accuracy: 0.9079 - val_loss: 0.8961 - val_accuracy: 0.8040\n",
            "71/71 [==============================] - 1s 7ms/step - loss: 0.9522 - accuracy: 0.7832\n"
          ]
        }
      ]
    }
  ]
}